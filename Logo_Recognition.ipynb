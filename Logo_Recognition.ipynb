{
  "cells": [
    {
      "cell_type": "code",
      "execution_count": null,
      "metadata": {
        "id": "VxfNY8XGUvZh"
      },
      "outputs": [],
      "source": [
        "from tensorflow.keras.optimizers import Adam\n",
        "from tensorflow.keras import models, layers\n",
        "import matplotlib.pyplot as plt\n",
        "import tensorflow as tf\n",
        "import pandas as pd\n",
        "import numpy as np\n",
        "import random\n",
        "import cv2\n",
        "import os"
      ]
    },
    {
      "cell_type": "code",
      "execution_count": null,
      "metadata": {
        "colab": {
          "base_uri": "https://localhost:8080/"
        },
        "id": "axMWEjw0zloo",
        "outputId": "f9e4ff76-01a8-4498-f277-56fa2803969c"
      },
      "outputs": [
        {
          "output_type": "stream",
          "name": "stdout",
          "text": [
            "Mounted at /content/drive\n"
          ]
        }
      ],
      "source": [
        "from google.colab import drive\n",
        "\n",
        "drive.mount('/content/drive')\n",
        "dir = '/content/drive/MyDrive/Panasonic/'\n",
        "os.chdir(dir)"
      ]
    },
    {
      "cell_type": "code",
      "execution_count": null,
      "metadata": {
        "id": "TCE5L4Cvz2Id"
      },
      "outputs": [],
      "source": [
        "img_dir = 'Images/'\n",
        "filenames = []\n",
        "labels = []\n",
        "\n",
        "min_files = min(len(os.listdir(img_dir + '0')), len(os.listdir(img_dir + '1')))\n",
        "for label in ['0', '1']:\n",
        "    for file in os.listdir(img_dir + label)[:min_files]:\n",
        "        filenames.append(img_dir + label + '/' + file)\n",
        "        labels.append(int(label))\n",
        "\n",
        "samples = list(zip(filenames, labels))\n",
        "random.shuffle(samples)"
      ]
    },
    {
      "cell_type": "code",
      "execution_count": null,
      "metadata": {
        "colab": {
          "base_uri": "https://localhost:8080/"
        },
        "id": "Gh3J-mdmyBP5",
        "outputId": "24f2d09e-6346-4ab9-abbb-836fe49d902d"
      },
      "outputs": [
        {
          "output_type": "stream",
          "name": "stdout",
          "text": [
            "0.4858576642335766\n",
            "0.5565693430656934\n"
          ]
        }
      ],
      "source": [
        "train_test_split = int(len(samples) * .8)\n",
        "train_samples = samples[:train_test_split]\n",
        "validation_samples = samples[train_test_split:]\n",
        "\n",
        "print(sum(list(map(lambda x:x[1], train_samples)))/len(train_samples))\n",
        "print(sum(list(map(lambda x:x[1], validation_samples)))/len(validation_samples))"
      ]
    },
    {
      "cell_type": "code",
      "execution_count": null,
      "metadata": {
        "id": "2PfxX0BHw3K4"
      },
      "outputs": [],
      "source": [
        "def generator(samples, batch_size=16):\n",
        "    num_samples = len(samples)\n",
        "    while True:\n",
        "        for offset in range(0, num_samples, batch_size):\n",
        "            batch_samples = samples[offset:offset+batch_size]\n",
        "            x_train, y_train = [], []\n",
        "            for batch_sample in batch_samples:\n",
        "                img_name = batch_sample[0]\n",
        "                label = batch_sample[1]\n",
        "                img =  cv2.imread(img_name)\n",
        "\n",
        "                x_train.append(img)\n",
        "                y_train.append(float(label))\n",
        "\n",
        "            x_train = np.array(x_train)\n",
        "            y_train = np.array(y_train)\n",
        "\n",
        "            yield x_train, y_train"
      ]
    },
    {
      "cell_type": "code",
      "execution_count": null,
      "metadata": {
        "id": "rdxstf_oyRQi"
      },
      "outputs": [],
      "source": [
        "batch_size_train = 16\n",
        "train_generator = generator(train_samples, batch_size=batch_size_train)\n",
        "validation_generator = generator(validation_samples, batch_size=int(len(validation_samples)/(train_test_split/batch_size_train)))"
      ]
    },
    {
      "cell_type": "code",
      "execution_count": null,
      "metadata": {
        "id": "2vl-UOFLWVT5"
      },
      "outputs": [],
      "source": [
        "model = models.Sequential()\n",
        "\n",
        "model.add(layers.Conv2D(16, (3, 3), activation = \"relu\" , input_shape = (100,100,3)))\n",
        "model.add(layers.MaxPooling2D(2,2))\n",
        "model.add(layers.Conv2D(32, (3, 3), activation = \"relu\" , input_shape = (100,100,3)))\n",
        "model.add(layers.MaxPooling2D(2,2))\n",
        "model.add(layers.Conv2D(64,(3,3),activation = \"relu\"))\n",
        "model.add(layers.MaxPooling2D(2,2))\n",
        "model.add(layers.Conv2D(128,(3,3),activation = \"relu\"))  \n",
        "model.add(layers.MaxPooling2D(2,2))\n",
        "\n",
        "model.add(layers.Flatten())\n",
        "model.add(layers.Dense(128,activation =\"relu\"))\n",
        "model.add(layers.Dropout(0.2))\n",
        "model.add(layers.Dense(64,activation=\"relu\"))\n",
        "model.add(layers.Dropout(0.2))\n",
        "model.add(layers.Dense(32,activation =\"relu\"))\n",
        "model.add(layers.Dropout(0.2))\n",
        "model.add(layers.Dense(1, activation = \"sigmoid\"))\n",
        "\n",
        "opt = Adam(learning_rate=0.00001)\n",
        "model.compile(optimizer=opt,\n",
        "              loss='binary_crossentropy',\n",
        "              metrics=['accuracy'])\n",
        "\n",
        "#model.summary()"
      ]
    },
    {
      "cell_type": "code",
      "execution_count": null,
      "metadata": {
        "colab": {
          "base_uri": "https://localhost:8080/"
        },
        "id": "Vjl7jMg1y1nx",
        "outputId": "5cf94b99-71a1-45b7-f8cf-34805854cbd1"
      },
      "outputs": [
        {
          "output_type": "stream",
          "name": "stdout",
          "text": [
            "Epoch 1/40\n"
          ]
        },
        {
          "output_type": "stream",
          "name": "stderr",
          "text": [
            "/usr/local/lib/python3.7/dist-packages/ipykernel_launcher.py:6: UserWarning: `Model.fit_generator` is deprecated and will be removed in a future version. Please use `Model.fit`, which supports generators.\n",
            "  \n"
          ]
        },
        {
          "output_type": "stream",
          "name": "stdout",
          "text": [
            "137/137 [==============================] - 28s 200ms/step - loss: 2.3351 - accuracy: 0.5287 - val_loss: 0.8670 - val_accuracy: 0.5712\n",
            "Epoch 2/40\n",
            "137/137 [==============================] - 26s 192ms/step - loss: 1.2031 - accuracy: 0.5479 - val_loss: 0.6980 - val_accuracy: 0.6113\n",
            "Epoch 3/40\n",
            "137/137 [==============================] - 26s 193ms/step - loss: 1.0005 - accuracy: 0.5433 - val_loss: 0.6427 - val_accuracy: 0.6569\n",
            "Epoch 4/40\n",
            "137/137 [==============================] - 26s 192ms/step - loss: 0.8768 - accuracy: 0.5611 - val_loss: 0.5947 - val_accuracy: 0.6807\n",
            "Epoch 5/40\n",
            "137/137 [==============================] - 26s 193ms/step - loss: 0.7888 - accuracy: 0.5922 - val_loss: 0.5713 - val_accuracy: 0.7226\n",
            "Epoch 6/40\n",
            "137/137 [==============================] - 27s 194ms/step - loss: 0.7363 - accuracy: 0.6168 - val_loss: 0.5690 - val_accuracy: 0.7245\n",
            "Epoch 7/40\n",
            "137/137 [==============================] - 26s 192ms/step - loss: 0.7129 - accuracy: 0.6309 - val_loss: 0.5481 - val_accuracy: 0.7190\n",
            "Epoch 8/40\n",
            "137/137 [==============================] - 26s 193ms/step - loss: 0.6939 - accuracy: 0.6300 - val_loss: 0.5373 - val_accuracy: 0.7318\n",
            "Epoch 9/40\n",
            "137/137 [==============================] - 26s 192ms/step - loss: 0.6453 - accuracy: 0.6560 - val_loss: 0.5413 - val_accuracy: 0.7281\n",
            "Epoch 10/40\n",
            "137/137 [==============================] - 27s 194ms/step - loss: 0.6369 - accuracy: 0.6706 - val_loss: 0.5472 - val_accuracy: 0.7281\n",
            "Epoch 11/40\n",
            "137/137 [==============================] - 26s 193ms/step - loss: 0.6215 - accuracy: 0.6747 - val_loss: 0.5348 - val_accuracy: 0.7318\n",
            "Epoch 12/40\n",
            "137/137 [==============================] - 27s 194ms/step - loss: 0.5901 - accuracy: 0.6975 - val_loss: 0.5199 - val_accuracy: 0.7445\n",
            "Epoch 13/40\n",
            "137/137 [==============================] - 26s 193ms/step - loss: 0.5667 - accuracy: 0.7094 - val_loss: 0.5113 - val_accuracy: 0.7646\n",
            "Epoch 14/40\n",
            "137/137 [==============================] - 26s 193ms/step - loss: 0.5697 - accuracy: 0.7080 - val_loss: 0.5112 - val_accuracy: 0.7591\n",
            "Epoch 15/40\n",
            "137/137 [==============================] - 26s 193ms/step - loss: 0.5330 - accuracy: 0.7254 - val_loss: 0.5064 - val_accuracy: 0.7591\n",
            "Epoch 16/40\n",
            "137/137 [==============================] - 26s 193ms/step - loss: 0.5378 - accuracy: 0.7318 - val_loss: 0.5017 - val_accuracy: 0.7555\n",
            "Epoch 17/40\n",
            "137/137 [==============================] - 26s 193ms/step - loss: 0.5193 - accuracy: 0.7500 - val_loss: 0.4932 - val_accuracy: 0.7701\n",
            "Epoch 18/40\n",
            "137/137 [==============================] - 27s 194ms/step - loss: 0.5282 - accuracy: 0.7377 - val_loss: 0.4879 - val_accuracy: 0.7737\n",
            "Epoch 19/40\n",
            "137/137 [==============================] - 26s 193ms/step - loss: 0.5189 - accuracy: 0.7495 - val_loss: 0.4763 - val_accuracy: 0.7938\n",
            "Epoch 20/40\n",
            "137/137 [==============================] - 26s 192ms/step - loss: 0.4962 - accuracy: 0.7651 - val_loss: 0.4730 - val_accuracy: 0.7883\n",
            "Epoch 21/40\n",
            "137/137 [==============================] - 26s 192ms/step - loss: 0.4794 - accuracy: 0.7751 - val_loss: 0.4738 - val_accuracy: 0.7792\n",
            "Epoch 22/40\n",
            "137/137 [==============================] - 26s 193ms/step - loss: 0.4925 - accuracy: 0.7655 - val_loss: 0.4694 - val_accuracy: 0.7792\n",
            "Epoch 23/40\n",
            "137/137 [==============================] - 27s 195ms/step - loss: 0.4631 - accuracy: 0.7860 - val_loss: 0.4580 - val_accuracy: 0.7810\n",
            "Epoch 24/40\n",
            "137/137 [==============================] - 27s 195ms/step - loss: 0.4751 - accuracy: 0.7778 - val_loss: 0.4592 - val_accuracy: 0.7938\n",
            "Epoch 25/40\n",
            "137/137 [==============================] - 27s 195ms/step - loss: 0.4664 - accuracy: 0.7806 - val_loss: 0.4527 - val_accuracy: 0.7901\n",
            "Epoch 26/40\n",
            "137/137 [==============================] - 27s 194ms/step - loss: 0.4497 - accuracy: 0.7842 - val_loss: 0.4492 - val_accuracy: 0.7938\n",
            "Epoch 27/40\n",
            "137/137 [==============================] - 26s 193ms/step - loss: 0.4521 - accuracy: 0.7947 - val_loss: 0.4476 - val_accuracy: 0.8029\n",
            "Epoch 28/40\n",
            "137/137 [==============================] - 26s 194ms/step - loss: 0.4102 - accuracy: 0.8189 - val_loss: 0.4523 - val_accuracy: 0.8066\n",
            "Epoch 29/40\n",
            "137/137 [==============================] - 27s 194ms/step - loss: 0.4331 - accuracy: 0.8066 - val_loss: 0.4369 - val_accuracy: 0.8011\n",
            "Epoch 30/40\n",
            "137/137 [==============================] - 27s 196ms/step - loss: 0.4192 - accuracy: 0.8016 - val_loss: 0.4421 - val_accuracy: 0.7974\n",
            "Epoch 31/40\n",
            "137/137 [==============================] - 27s 194ms/step - loss: 0.3997 - accuracy: 0.8257 - val_loss: 0.4356 - val_accuracy: 0.8047\n",
            "Epoch 32/40\n",
            "137/137 [==============================] - 27s 194ms/step - loss: 0.3973 - accuracy: 0.8257 - val_loss: 0.4248 - val_accuracy: 0.8047\n",
            "Epoch 33/40\n",
            "137/137 [==============================] - 27s 195ms/step - loss: 0.3913 - accuracy: 0.8390 - val_loss: 0.4340 - val_accuracy: 0.8084\n",
            "Epoch 34/40\n",
            "137/137 [==============================] - 27s 195ms/step - loss: 0.3890 - accuracy: 0.8244 - val_loss: 0.4337 - val_accuracy: 0.8066\n",
            "Epoch 35/40\n",
            "137/137 [==============================] - 27s 195ms/step - loss: 0.3845 - accuracy: 0.8349 - val_loss: 0.4302 - val_accuracy: 0.8175\n",
            "Epoch 36/40\n",
            "137/137 [==============================] - 27s 195ms/step - loss: 0.3774 - accuracy: 0.8358 - val_loss: 0.4282 - val_accuracy: 0.8139\n",
            "Epoch 37/40\n",
            "137/137 [==============================] - 27s 196ms/step - loss: 0.3648 - accuracy: 0.8458 - val_loss: 0.4218 - val_accuracy: 0.8248\n",
            "Epoch 38/40\n",
            "137/137 [==============================] - 27s 194ms/step - loss: 0.3618 - accuracy: 0.8504 - val_loss: 0.4179 - val_accuracy: 0.8175\n",
            "Epoch 39/40\n",
            "137/137 [==============================] - 26s 193ms/step - loss: 0.3451 - accuracy: 0.8531 - val_loss: 0.4212 - val_accuracy: 0.8230\n",
            "Epoch 40/40\n",
            "137/137 [==============================] - 26s 193ms/step - loss: 0.3509 - accuracy: 0.8522 - val_loss: 0.4182 - val_accuracy: 0.8120\n"
          ]
        }
      ],
      "source": [
        "history = model.fit_generator(\n",
        "    train_generator,\n",
        "    steps_per_epoch=int(train_test_split // batch_size_train),\n",
        "    epochs=40,\n",
        "    validation_data=validation_generator,\n",
        "    validation_steps=int(train_test_split // batch_size_train))"
      ]
    },
    {
      "cell_type": "code",
      "execution_count": null,
      "metadata": {
        "colab": {
          "base_uri": "https://localhost:8080/",
          "height": 295
        },
        "id": "9FGqcTyqHnrj",
        "outputId": "227b0d10-d453-47e5-eaa6-75d0e54e7c2e"
      },
      "outputs": [
        {
          "output_type": "display_data",
          "data": {
            "text/plain": [
              "<Figure size 432x288 with 1 Axes>"
            ],
            "image/png": "[encoded data removed]"
          },
          "metadata": {
            "needs_background": "light"
          }
        }
      ],
      "source": [
        "plt.plot(history.history['accuracy'])\n",
        "plt.plot(history.history['val_accuracy'])\n",
        "plt.title('model accuracy')\n",
        "plt.ylabel('accuracy')\n",
        "plt.xlabel('epoch')\n",
        "plt.legend(['train', 'test'], loc='upper left')\n",
        "plt.show()"
      ]
    },
    {
      "cell_type": "code",
      "execution_count": null,
      "metadata": {
        "colab": {
          "base_uri": "https://localhost:8080/"
        },
        "id": "3R0ljPb7h1dV",
        "outputId": "3c1d1ec3-5cdd-43b6-9f2f-cb7f8382f3ac"
      },
      "outputs": [
        {
          "output_type": "stream",
          "name": "stdout",
          "text": [
            "INFO:tensorflow:Assets written to: logo-recognition/assets\n"
          ]
        }
      ],
      "source": [
        "model.save('logo-recognition')"
      ]
    },
    {
      "cell_type": "code",
      "execution_count": null,
      "metadata": {
        "colab": {
          "base_uri": "https://localhost:8080/"
        },
        "id": "oRB6VCwnZQk_",
        "outputId": "d5a05fba-2e57-4801-f471-34971fd123c2"
      },
      "outputs": [
        {
          "output_type": "stream",
          "name": "stdout",
          "text": [
            "[0.5699755] 1\n",
            "[0.94723356] 1\n",
            "[0.14840329] 1\n",
            "[0.6668909] 1\n",
            "[0.99053645] 1\n",
            "[0.9382497] 1\n",
            "[0.5653735] 0\n",
            "[0.8041738] 1\n",
            "[0.76527226] 1\n",
            "[0.03439316] 0\n",
            "[0.03862464] 0\n",
            "[0.91645056] 1\n",
            "[0.9965402] 1\n",
            "[0.8723562] 1\n",
            "[0.0255183] 0\n",
            "[0.99002063] 1\n",
            "[0.31567374] 0\n",
            "[0.88465226] 1\n",
            "[0.5817989] 1\n",
            "[0.11512962] 0\n",
            "[0.01146686] 0\n",
            "[0.9533053] 1\n",
            "[0.07250041] 0\n",
            "[0.96284807] 1\n",
            "[0.8599402] 1\n",
            "[0.99981225] 1\n",
            "[0.5655542] 1\n",
            "[0.9992899] 1\n",
            "[0.9713901] 1\n",
            "[0.04351392] 0\n",
            "[0.84529704] 1\n",
            "[0.80358064] 0\n",
            "[0.9654447] 1\n",
            "[0.9976847] 1\n",
            "[0.01557744] 0\n",
            "[0.9916833] 1\n",
            "[0.87602806] 1\n",
            "[0.09617803] 0\n",
            "[0.1586141] 0\n",
            "[0.40218884] 0\n",
            "[0.12843642] 0\n",
            "[0.07282838] 0\n",
            "[0.99504304] 1\n",
            "[0.4837828] 1\n",
            "[0.48923016] 0\n",
            "[0.2516547] 0\n",
            "[0.48923016] 1\n",
            "[0.99943674] 1\n",
            "[0.06432593] 0\n",
            "[0.49414876] 1\n",
            "[0.8808242] 1\n",
            "[0.04612818] 0\n",
            "[0.7402654] 1\n",
            "[0.14169547] 0\n",
            "[0.88980067] 1\n",
            "[0.2069819] 1\n",
            "[0.9892458] 1\n",
            "[0.9999665] 1\n",
            "[0.01955619] 0\n",
            "[0.9895883] 1\n",
            "[0.36368448] 0\n",
            "[0.51730305] 1\n",
            "[0.93240076] 1\n",
            "[0.66897804] 1\n",
            "[0.8599402] 1\n",
            "[0.0389418] 0\n",
            "[0.8611117] 1\n",
            "[0.9496556] 1\n",
            "[0.05401674] 0\n",
            "[0.17631778] 0\n",
            "[0.99027085] 1\n",
            "[0.2784086] 1\n",
            "[0.65569437] 1\n",
            "[0.999555] 1\n",
            "[0.7550563] 1\n",
            "[0.88598907] 1\n",
            "[0.05287418] 0\n",
            "[0.0771766] 0\n",
            "[0.76130736] 1\n",
            "[0.99785864] 1\n",
            "[0.06352738] 0\n",
            "[0.85050154] 1\n",
            "[0.17099988] 0\n",
            "[0.14167017] 0\n",
            "[0.27146047] 1\n",
            "[0.48697257] 1\n",
            "[0.07286096] 0\n",
            "[0.99657166] 1\n",
            "[0.67462826] 1\n",
            "[0.00640884] 0\n",
            "[0.84404933] 1\n",
            "[0.35832912] 1\n",
            "[0.89532477] 1\n",
            "[0.21601674] 1\n",
            "[0.7215918] 0\n",
            "[0.8611404] 1\n",
            "[0.2147614] 0\n",
            "[0.18650764] 0\n",
            "[0.21021166] 0\n",
            "[0.5817989] 1\n"
          ]
        }
      ],
      "source": [
        "imgs = []\n",
        "actual = []\n",
        "for sample in random.sample(samples, 100):\n",
        "    imgs.append(cv2.imread(sample[0]))\n",
        "    actual.append(sample[1])\n",
        "\n",
        "preds = model.predict(np.array(imgs))\n",
        "for i in range(len(actual)):\n",
        "    print(preds[i], actual[i])"
      ]
    },
    {
      "cell_type": "code",
      "source": [
        "img_data = []\n",
        "for valid in validation_samples:\n",
        "    img_data.append(cv2.imread(valid[0]))\n",
        "\n",
        "preds = model.predict(np.array(img_data))\n",
        "plt.hist(preds)\n",
        "plt.show()"
      ],
      "metadata": {
        "colab": {
          "base_uri": "https://localhost:8080/",
          "height": 265
        },
        "id": "S3-Lj2hyqhQV",
        "outputId": "f2bcb92e-e128-4db9-f876-9f246ea9d995"
      },
      "execution_count": null,
      "outputs": [
        {
          "output_type": "display_data",
          "data": {
            "text/plain": [
              "<Figure size 432x288 with 1 Axes>"
            ],
            "image/png": "[encoded data removed]"
          },
          "metadata": {
            "needs_background": "light"
          }
        }
      ]
    }
  ],
  "metadata": {
    "colab": {
      "collapsed_sections": [],
      "name": "Logo Recognition.ipynb",
      "provenance": []
    },
    "kernelspec": {
      "display_name": "Python 3",
      "name": "python3"
    },
    "language_info": {
      "name": "python"
    }
  },
  "nbformat": 4,
  "nbformat_minor": 0
}